{
 "cells": [
  {
   "cell_type": "markdown",
   "metadata": {},
   "source": [
    "## Test steerable canonicalization\n",
    "In this notebook, we test the whether the steerable image canonicalizers can generate a canonical orientation properly for sample images. We also visualize the original and canonicalized images to see if the canonicalization is successful."
   ]
  },
  {
   "cell_type": "code",
   "execution_count": 1,
   "metadata": {},
   "outputs": [
    {
     "name": "stderr",
     "output_type": "stream",
     "text": [
      "/home/mila/a/arnab.mondal/.conda/envs/equiadapt/lib/python3.10/site-packages/scipy/__init__.py:155: UserWarning: A NumPy version >=1.18.5 and <1.26.0 is required for this version of SciPy (detected version 1.26.4\n",
      "  warnings.warn(f\"A NumPy version >={np_minversion} and <{np_maxversion}\"\n",
      "/home/mila/a/arnab.mondal/escnn/escnn/group/groups/so3group.py:20: UserWarning: `py3nj` package not found! Will use a numerical method to compute the SO(3) Clebsh-Gordan coefficents. This is much slower but the coefficients will be cached on disk.\n",
      "  warnings.warn(\"`py3nj` package not found! Will use a numerical method to compute the SO(3) Clebsh-Gordan coefficents. This is much slower but the coefficients will be cached on disk.\")\n"
     ]
    }
   ],
   "source": [
    "import torch\n",
    "from torchvision import datasets, transforms\n",
    "from equiadapt.images.canonicalization.continuous_group import SteerableImageCanonicalization\n",
    "from equiadapt.images.canonicalization_networks import ESCNNSteerableNetwork\n",
    "import matplotlib.pyplot as plt\n",
    "import torchvision.transforms.functional as F\n",
    "import numpy as np"
   ]
  },
  {
   "cell_type": "markdown",
   "metadata": {},
   "source": [
    "### 1. Load the CIFAR-10 dataset\n",
    "First load the dataset and the dataloader."
   ]
  },
  {
   "cell_type": "code",
   "execution_count": 2,
   "metadata": {},
   "outputs": [],
   "source": [
    "# Load the CIFAR10 dataset\n",
    "transform = transforms.Compose([transforms.ToTensor()])\n",
    "\n",
    "data_path = '/home/mila/a/arnab.mondal/scratch/equiadapt/image/data/cifar10'\n",
    "cifar10 = datasets.CIFAR10(root=data_path, train=True, download=False, transform=transform)\n",
    "data_loader = torch.utils.data.DataLoader(cifar10, batch_size=1, shuffle=True)\n",
    "\n"
   ]
  },
  {
   "cell_type": "markdown",
   "metadata": {},
   "source": [
    "Visulize the original images."
   ]
  },
  {
   "cell_type": "code",
   "execution_count": 6,
   "metadata": {},
   "outputs": [
    {
     "data": {
      "image/png": "[encoded data removed]",
      "text/plain": [
       "<Figure size 200x200 with 1 Axes>"
      ]
     },
     "metadata": {},
     "output_type": "display_data"
    }
   ],
   "source": [
    "sample_data = next(iter(data_loader))\n",
    "# Visualize the original image\n",
    "sample_image = sample_data[0].squeeze().permute(1, 2, 0).numpy()\n",
    "\n",
    "plt.figure(figsize=(2, 2))\n",
    "plt.imshow(sample_image)\n",
    "plt.show()"
   ]
  },
  {
   "cell_type": "markdown",
   "metadata": {},
   "source": [
    "### 2. Check for canonicalization for steerable image canonicalizers\n",
    "\n"
   ]
  },
  {
   "cell_type": "markdown",
   "metadata": {},
   "source": [
    "We first test it for SO(2) which is a 2D rotation group.\n",
    "For this we first transform the image to k random rotations and then apply the steerable canonicalization to the image. \n",
    "We then check if the canonicalized image is the same as the original image."
   ]
  },
  {
   "cell_type": "code",
   "execution_count": 7,
   "metadata": {},
   "outputs": [],
   "source": [
    "# Transform the image using k random rotations\n",
    "# number of random rotations\n",
    "k = 4\n",
    "# Original tensor image from the DataLoader\n",
    "sample_image_tensor = sample_data[0]  # Assuming the first item is your image tensor\n",
    "\n",
    "# Define an empty list to store the transformed tensor images\n",
    "transformed_sample_images = []\n",
    "\n",
    "# Get the shape of the image tensor\n",
    "h, w = sample_image_tensor.shape[-2:]\n",
    "\n",
    "# Pad the image to get rid of the black borders\n",
    "pad = transforms.Pad(10, padding_mode='edge')\n",
    "\n",
    "# crop the image to get rid of the black borders\n",
    "crop = transforms.CenterCrop((h, w))\n",
    "# Loop over the number of random rotations\n",
    "# and transform the image tensor using torch rotation\n",
    "for _ in range(k):\n",
    "    # Generate a random angle for rotation\n",
    "    angle = torch.rand(1).item() * 360  # Random rotation between 0 and 360 degrees\n",
    "    \n",
    "    # Pad the image to get rid of the black borders\n",
    "    padded_image_tensor = pad(sample_image_tensor)\n",
    "    \n",
    "    # Apply the rotation to the tensor\n",
    "    transformed_image_tensor = F.rotate(padded_image_tensor, angle)\n",
    "    \n",
    "    # Add the transformed tensor to the list\n",
    "    transformed_sample_images.append(crop(transformed_image_tensor))\n",
    "\n"
   ]
  },
  {
   "cell_type": "markdown",
   "metadata": {},
   "source": [
    "Function to visualize a list of image tensors."
   ]
  },
  {
   "cell_type": "code",
   "execution_count": 8,
   "metadata": {},
   "outputs": [],
   "source": [
    "def plot_image_tensors(image_tensors, titles=None, figsize=(4, 4)):\n",
    "    \"\"\"\n",
    "    Plots a list of image tensors in a grid.\n",
    "\n",
    "    Parameters:\n",
    "    - image_tensors: List[Tensor]. A list of image tensors in (C, H, W) format.\n",
    "    - titles: List[str]. Optional. A list of titles for each subplot.\n",
    "    - figsize: tuple. The figure size.\n",
    "    \"\"\"\n",
    "    # Determine the number of images\n",
    "    num_images = len(image_tensors)\n",
    "\n",
    "    # Calculate grid size for the subplots\n",
    "    rows = int(torch.sqrt(torch.tensor(num_images)).item())\n",
    "    cols = (num_images + rows - 1) // rows  # Ensure enough columns to display all images\n",
    "\n",
    "    # Create a figure with subplots\n",
    "    fig, axes = plt.subplots(rows, cols, figsize=figsize)\n",
    "    \n",
    "    # Flatten axes array for easy iteration, in case of a single row/column\n",
    "    axes = axes.flatten()\n",
    "\n",
    "    # Loop through all the images and their corresponding axes\n",
    "    for i, (img_tensor, ax) in enumerate(zip(image_tensors, axes)):\n",
    "        # Convert the tensor for visualization\n",
    "        img_np = img_tensor.squeeze().permute(1, 2, 0).numpy()\n",
    "        \n",
    "        # Plot the image\n",
    "        ax.imshow(img_np)\n",
    "        ax.axis('off')  # Hide the axis\n",
    "\n",
    "        # Set title if titles are provided\n",
    "        if titles and i < len(titles):\n",
    "            ax.set_title(titles[i])\n",
    "\n",
    "    # If there are more axes than images, hide the extra axes\n",
    "    for j in range(i + 1, len(axes)):\n",
    "        axes[j].axis('off')\n",
    "\n",
    "    # Adjust layout\n",
    "    plt.tight_layout()\n",
    "    plt.show()"
   ]
  },
  {
   "cell_type": "markdown",
   "metadata": {},
   "source": [
    "Visualize the transformed images"
   ]
  },
  {
   "cell_type": "code",
   "execution_count": 9,
   "metadata": {},
   "outputs": [
    {
     "data": {
      "image/png": "[encoded data removed]",
      "text/plain": [
       "<Figure size 400x400 with 4 Axes>"
      ]
     },
     "metadata": {},
     "output_type": "display_data"
    }
   ],
   "source": [
    "# Visualizing all the transformed images \n",
    "plot_image_tensors(transformed_sample_images)"
   ]
  },
  {
   "cell_type": "markdown",
   "metadata": {},
   "source": [
    "Define a steerable canonicalization network and a SteerableImageCanonicalization object."
   ]
  },
  {
   "cell_type": "code",
   "execution_count": 13,
   "metadata": {},
   "outputs": [],
   "source": [
    "# Get the device\n",
    "device = torch.device(\"cuda\" if torch.cuda.is_available() else \"cpu\")\n",
    "\n",
    "# Get the shape of the image\n",
    "image_shape = sample_image_tensor.squeeze().shape\n",
    "\n",
    "# Define a steerable canonicalization network\n",
    "# Note that you define any steerable network here as long as it outputs \n",
    "# a vector that steers with the input image\n",
    "# This vector is used to get a rotation matrix in a differentiable manner \n",
    "canonicalization_network = ESCNNSteerableNetwork(\n",
    "    in_shape = image_shape,\n",
    "    out_channels=16, kernel_size= 7, num_layers = 2).to(device)\n",
    "\n",
    "# Create a steerable canonicalization object\n",
    "canonicalizer = SteerableImageCanonicalization(\n",
    "    canonicalization_network=canonicalization_network,\n",
    "    canonicalization_hyperparams=None,\n",
    "    in_shape=sample_image_tensor.shape,\n",
    ")"
   ]
  },
  {
   "cell_type": "code",
   "execution_count": 17,
   "metadata": {},
   "outputs": [
    {
     "data": {
      "text/plain": [
       "'rotation'"
      ]
     },
     "execution_count": 17,
     "metadata": {},
     "output_type": "execute_result"
    }
   ],
   "source": [
    "canonicalizer.group_type"
   ]
  },
  {
   "cell_type": "markdown",
   "metadata": {},
   "source": [
    "Canonicalize all the transformed images and visualize the canonicalized images."
   ]
  },
  {
   "cell_type": "code",
   "execution_count": 16,
   "metadata": {},
   "outputs": [
    {
     "data": {
      "image/png": "[encoded data removed]",
      "text/plain": [
       "<Figure size 400x400 with 4 Axes>"
      ]
     },
     "metadata": {},
     "output_type": "display_data"
    }
   ],
   "source": [
    "# Get canonicalized images for all transformed images\n",
    "canonicalized_images = []\n",
    "for im in transformed_sample_images:\n",
    "    im = im.to(device)\n",
    "    out_vec = canonicalization_network(im)\n",
    "    canonicalized_image = canonicalizer.canonicalize(im)\n",
    "    canonicalized_images.append(canonicalized_image.detach().cpu())\n",
    "\n",
    "# Visualizing all the canonicalized images\n",
    "plot_image_tensors(canonicalized_images)\n",
    "    "
   ]
  }
 ],
 "metadata": {
  "kernelspec": {
   "display_name": "Python 3",
   "language": "python",
   "name": "python3"
  },
  "language_info": {
   "codemirror_mode": {
    "name": "ipython",
    "version": 3
   },
   "file_extension": ".py",
   "mimetype": "text/x-python",
   "name": "python",
   "nbconvert_exporter": "python",
   "pygments_lexer": "ipython3",
   "version": "3.10.13"
  }
 },
 "nbformat": 4,
 "nbformat_minor": 2
}
