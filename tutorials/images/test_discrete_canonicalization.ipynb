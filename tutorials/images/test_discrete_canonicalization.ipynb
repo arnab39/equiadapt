{
 "cells": [
  {
   "cell_type": "markdown",
   "metadata": {},
   "source": [
    "## Test Group Equivariant canonicalization\n",
    "In this notebook, we test the whether the group equivariant image canonicalizers can generate a canonical orientation properly for sample images. We also visualize the original and canonicalized images to see if the canonicalization is successful."
   ]
  },
  {
   "cell_type": "code",
   "execution_count": 1,
   "metadata": {},
   "outputs": [
    {
     "name": "stderr",
     "output_type": "stream",
     "text": [
      "/home/mila/a/arnab.mondal/.conda/envs/equiadapt/lib/python3.10/site-packages/scipy/__init__.py:155: UserWarning: A NumPy version >=1.18.5 and <1.26.0 is required for this version of SciPy (detected version 1.26.4\n",
      "  warnings.warn(f\"A NumPy version >={np_minversion} and <{np_maxversion}\"\n",
      "/home/mila/a/arnab.mondal/escnn/escnn/group/groups/so3group.py:20: UserWarning: `py3nj` package not found! Will use a numerical method to compute the SO(3) Clebsh-Gordan coefficents. This is much slower but the coefficients will be cached on disk.\n",
      "  warnings.warn(\"`py3nj` package not found! Will use a numerical method to compute the SO(3) Clebsh-Gordan coefficents. This is much slower but the coefficients will be cached on disk.\")\n"
     ]
    }
   ],
   "source": [
    "import torch\n",
    "from torchvision import datasets, transforms\n",
    "from equiadapt.images.canonicalization.discrete_group import GroupEquivariantImageCanonicalization, OptimizedGroupEquivariantImageCanonicalization\n",
    "from equiadapt.images.canonicalization_networks import ESCNNEquivariantNetwork, ConvNetwork\n",
    "import matplotlib.pyplot as plt\n",
    "import torchvision.transforms.functional as F\n",
    "import numpy as np\n",
    "from tqdm import tqdm"
   ]
  },
  {
   "cell_type": "markdown",
   "metadata": {},
   "source": [
    "### 1. Load the CIFAR-10 dataset\n",
    "First load the dataset and the dataloader."
   ]
  },
  {
   "cell_type": "code",
   "execution_count": 2,
   "metadata": {},
   "outputs": [],
   "source": [
    "# Load the CIFAR10 dataset\n",
    "transform = transforms.Compose([transforms.ToTensor()])\n",
    "\n",
    "data_path = '/home/mila/a/arnab.mondal/scratch/equiadapt/image/data/cifar10'\n",
    "cifar10 = datasets.CIFAR10(root=data_path, train=True, download=False, transform=transform)\n",
    "data_loader = torch.utils.data.DataLoader(cifar10, batch_size=512, shuffle=True)"
   ]
  },
  {
   "cell_type": "markdown",
   "metadata": {},
   "source": [
    "Visulize the original images."
   ]
  },
  {
   "cell_type": "code",
   "execution_count": 3,
   "metadata": {},
   "outputs": [
    {
     "data": {
      "image/png": "[encoded data removed]",
      "text/plain": [
       "<Figure size 200x200 with 1 Axes>"
      ]
     },
     "metadata": {},
     "output_type": "display_data"
    }
   ],
   "source": [
    "sample_data = next(iter(data_loader))\n",
    "# Visualize the original image\n",
    "sample_image = sample_data[0][0].permute(1, 2, 0).numpy()\n",
    "\n",
    "plt.figure(figsize=(2, 2))\n",
    "plt.imshow(sample_image)\n",
    "plt.show()"
   ]
  },
  {
   "cell_type": "markdown",
   "metadata": {},
   "source": [
    "### 2. Check for canonicalization for the group equivariant image canonicalizers"
   ]
  },
  {
   "cell_type": "markdown",
   "metadata": {},
   "source": [
    "We first test it for SO(2) which is a 2D rotation group.\n",
    "\n",
    "For this we first transform the image to k uniformly spaced rotations and then apply the canonicalization to the image. \n",
    "\n",
    "We then check if the canonicalized image is the same as the original image."
   ]
  },
  {
   "cell_type": "code",
   "execution_count": 4,
   "metadata": {},
   "outputs": [],
   "source": [
    "# Transform the image using k random rotations\n",
    "# number of random rotations\n",
    "k = 4\n",
    "# Original tensor image from the DataLoader\n",
    "sample_image_tensor = sample_data[0][0]  # Assuming the first item is your image tensor\n",
    "\n",
    "# Define an empty list to store the transformed tensor images\n",
    "transformed_sample_images = []\n",
    "\n",
    "# Get the shape of the image tensor\n",
    "h, w = sample_image_tensor.shape[-2:]\n",
    "\n",
    "# Pad the image to get rid of the black borders\n",
    "pad = transforms.Pad(10, padding_mode='edge')\n",
    "\n",
    "# crop the image to get rid of the black borders\n",
    "crop = transforms.CenterCrop((h, w))\n",
    "# Loop over the number of random rotations\n",
    "# and transform the image tensor using torch rotation\n",
    "for i in range(k):\n",
    "    # Generate a random angle for rotation\n",
    "    angle = 90 * i\n",
    "    \n",
    "    # Pad the image to get rid of the black borders\n",
    "    padded_image_tensor = pad(sample_image_tensor)\n",
    "    \n",
    "    # Apply the rotation to the tensor\n",
    "    transformed_image_tensor = F.rotate(padded_image_tensor, angle)\n",
    "    \n",
    "    # Add the transformed tensor to the list\n",
    "    transformed_sample_images.append(crop(transformed_image_tensor))\n",
    "\n"
   ]
  },
  {
   "cell_type": "markdown",
   "metadata": {},
   "source": [
    "Function to visualize a list of image tensors."
   ]
  },
  {
   "cell_type": "code",
   "execution_count": 5,
   "metadata": {},
   "outputs": [],
   "source": [
    "def plot_image_tensors(image_tensors, titles=None, figsize=(4, 4)):\n",
    "    \"\"\"\n",
    "    Plots a list of image tensors in a grid.\n",
    "\n",
    "    Parameters:\n",
    "    - image_tensors: List[Tensor]. A list of image tensors in (C, H, W) format.\n",
    "    - titles: List[str]. Optional. A list of titles for each subplot.\n",
    "    - figsize: tuple. The figure size.\n",
    "    \"\"\"\n",
    "    # Determine the number of images\n",
    "    num_images = len(image_tensors)\n",
    "\n",
    "    # Calculate grid size for the subplots\n",
    "    rows = int(torch.sqrt(torch.tensor(num_images)).item())\n",
    "    cols = (num_images + rows - 1) // rows  # Ensure enough columns to display all images\n",
    "\n",
    "    # Create a figure with subplots\n",
    "    fig, axes = plt.subplots(rows, cols, figsize=figsize)\n",
    "    \n",
    "    # Flatten axes array for easy iteration, in case of a single row/column\n",
    "    axes = axes.flatten()\n",
    "\n",
    "    # Loop through all the images and their corresponding axes\n",
    "    for i, (img_tensor, ax) in enumerate(zip(image_tensors, axes)):\n",
    "        # Convert the tensor for visualization\n",
    "        img_np = img_tensor.squeeze().permute(1, 2, 0).numpy()\n",
    "        \n",
    "        # Plot the image\n",
    "        ax.imshow(img_np)\n",
    "        ax.axis('off')  # Hide the axis\n",
    "\n",
    "        # Set title if titles are provided\n",
    "        if titles and i < len(titles):\n",
    "            ax.set_title(titles[i])\n",
    "\n",
    "    # If there are more axes than images, hide the extra axes\n",
    "    for j in range(i + 1, len(axes)):\n",
    "        axes[j].axis('off')\n",
    "\n",
    "    # Adjust layout\n",
    "    plt.tight_layout()\n",
    "    plt.show()"
   ]
  },
  {
   "cell_type": "markdown",
   "metadata": {},
   "source": [
    "Visualize the transformed images"
   ]
  },
  {
   "cell_type": "code",
   "execution_count": 6,
   "metadata": {},
   "outputs": [
    {
     "data": {
      "image/png": "[encoded data removed]",
      "text/plain": [
       "<Figure size 400x400 with 4 Axes>"
      ]
     },
     "metadata": {},
     "output_type": "display_data"
    }
   ],
   "source": [
    "# Visualizing all the transformed images \n",
    "plot_image_tensors(transformed_sample_images)"
   ]
  },
  {
   "cell_type": "markdown",
   "metadata": {},
   "source": [
    "Define a group equivariant canonicalization network and a GroupEquivariantImageCanonicalization object."
   ]
  },
  {
   "cell_type": "code",
   "execution_count": 13,
   "metadata": {},
   "outputs": [
    {
     "name": "stdout",
     "output_type": "stream",
     "text": [
      "Image shape: torch.Size([3, 32, 32])\n"
     ]
    }
   ],
   "source": [
    "# Get the device\n",
    "device = torch.device(\"cuda\" if torch.cuda.is_available() else \"cpu\")\n",
    "\n",
    "# Define the hyperparameters for the canonicalization network\n",
    "class CanonicalizationHyperparams:\n",
    "    def __init__(self):\n",
    "        self.input_crop_ratio = 0.5\n",
    "        self.beta = 1.0 # Beta parameter for the canonization network\n",
    "        self.resize_shape = 32 # The shape of the image after resizing\n",
    "\n",
    "# Create an instance of the hyperparameters\n",
    "canonicalization_hyperparams = CanonicalizationHyperparams()\n",
    "\n",
    "# Get the shape of the image\n",
    "image_shape = sample_image_tensor.squeeze().shape\n",
    "\n",
    "# Print the image shape\n",
    "print(f\"Image shape: {image_shape}\")\n",
    "\n",
    "# Define a steerable canonicalization network\n",
    "# Note that you define any steerable network here as long as it outputs \n",
    "# a vector that steers with the input image\n",
    "# This vector is used to get a rotation matrix in a differentiable manner \n",
    "canonicalization_network = ESCNNEquivariantNetwork(\n",
    "    in_shape = image_shape,\n",
    "    out_channels=16, \n",
    "    kernel_size= 9, \n",
    "    num_layers = 3,\n",
    "    group_type='rotation', \n",
    "    num_rotations=4, \n",
    ").to(device)\n",
    "\n",
    "\n",
    "# Create a steerable canonicalization object\n",
    "canonicalizer = GroupEquivariantImageCanonicalization(\n",
    "    canonicalization_network=canonicalization_network,\n",
    "    canonicalization_hyperparams=canonicalization_hyperparams,\n",
    "    in_shape=image_shape,\n",
    ")"
   ]
  },
  {
   "cell_type": "markdown",
   "metadata": {},
   "source": [
    "Canonicalize all the transformed images and visualize the canonicalized images."
   ]
  },
  {
   "cell_type": "code",
   "execution_count": 17,
   "metadata": {},
   "outputs": [
    {
     "data": {
      "image/png": "[encoded data removed]",
      "text/plain": [
       "<Figure size 400x400 with 4 Axes>"
      ]
     },
     "metadata": {},
     "output_type": "display_data"
    }
   ],
   "source": [
    "def get_and_plot_canonicalized_images(transformed_sample_images, canonicalizer):\n",
    "    # Get canonicalized images for all transformed images\n",
    "    canonicalized_images = []\n",
    "    for im in transformed_sample_images:\n",
    "        im = im.unsqueeze(0).to(device)\n",
    "        canonicalized_image = canonicalizer.canonicalize(im)\n",
    "        canonicalized_images.append(canonicalized_image.detach().cpu())\n",
    "\n",
    "    # Visualizing all the canonicalized images\n",
    "    plot_image_tensors(canonicalized_images)\n",
    "    "
   ]
  },
  {
   "cell_type": "code",
   "execution_count": null,
   "metadata": {},
   "outputs": [],
   "source": [
    "get_and_plot_canonicalized_images(transformed_sample_images, canonicalizer)"
   ]
  },
  {
   "cell_type": "markdown",
   "metadata": {},
   "source": [
    "Now train the canonicalizer using prior regularization to get identity canonical orientation for original images."
   ]
  },
  {
   "cell_type": "code",
   "execution_count": 16,
   "metadata": {},
   "outputs": [
    {
     "name": "stderr",
     "output_type": "stream",
     "text": [
      "100%|██████████| 98/98 [00:05<00:00, 16.53it/s]\n"
     ]
    },
    {
     "name": "stdout",
     "output_type": "stream",
     "text": [
      "Epoch 1/50, : Identity metric = 0.5994\n"
     ]
    },
    {
     "name": "stderr",
     "output_type": "stream",
     "text": [
      "100%|██████████| 98/98 [00:05<00:00, 16.56it/s]\n"
     ]
    },
    {
     "name": "stdout",
     "output_type": "stream",
     "text": [
      "Epoch 2/50, : Identity metric = 0.6048\n"
     ]
    },
    {
     "name": "stderr",
     "output_type": "stream",
     "text": [
      "100%|██████████| 98/98 [00:05<00:00, 16.56it/s]\n"
     ]
    },
    {
     "name": "stdout",
     "output_type": "stream",
     "text": [
      "Epoch 3/50, : Identity metric = 0.6047\n"
     ]
    },
    {
     "name": "stderr",
     "output_type": "stream",
     "text": [
      "100%|██████████| 98/98 [00:05<00:00, 16.62it/s]\n"
     ]
    },
    {
     "name": "stdout",
     "output_type": "stream",
     "text": [
      "Epoch 4/50, : Identity metric = 0.6077\n"
     ]
    },
    {
     "name": "stderr",
     "output_type": "stream",
     "text": [
      "100%|██████████| 98/98 [00:05<00:00, 16.38it/s]\n"
     ]
    },
    {
     "name": "stdout",
     "output_type": "stream",
     "text": [
      "Epoch 5/50, : Identity metric = 0.6075\n"
     ]
    },
    {
     "name": "stderr",
     "output_type": "stream",
     "text": [
      "100%|██████████| 98/98 [00:05<00:00, 16.65it/s]\n"
     ]
    },
    {
     "name": "stdout",
     "output_type": "stream",
     "text": [
      "Epoch 6/50, : Identity metric = 0.6084\n"
     ]
    },
    {
     "name": "stderr",
     "output_type": "stream",
     "text": [
      "100%|██████████| 98/98 [00:05<00:00, 16.67it/s]\n"
     ]
    },
    {
     "name": "stdout",
     "output_type": "stream",
     "text": [
      "Epoch 7/50, : Identity metric = 0.6112\n"
     ]
    },
    {
     "name": "stderr",
     "output_type": "stream",
     "text": [
      "100%|██████████| 98/98 [00:05<00:00, 16.67it/s]\n"
     ]
    },
    {
     "name": "stdout",
     "output_type": "stream",
     "text": [
      "Epoch 8/50, : Identity metric = 0.6118\n"
     ]
    },
    {
     "name": "stderr",
     "output_type": "stream",
     "text": [
      " 61%|██████    | 60/98 [00:03<00:02, 15.89it/s]\n"
     ]
    },
    {
     "ename": "KeyboardInterrupt",
     "evalue": "",
     "output_type": "error",
     "traceback": [
      "\u001b[0;31m---------------------------------------------------------------------------\u001b[0m",
      "\u001b[0;31mKeyboardInterrupt\u001b[0m                         Traceback (most recent call last)",
      "Cell \u001b[0;32mIn[16], line 12\u001b[0m\n\u001b[1;32m      8\u001b[0m \u001b[38;5;28;01mfor\u001b[39;00m epoch \u001b[38;5;129;01min\u001b[39;00m \u001b[38;5;28mrange\u001b[39m(num_epochs):\n\u001b[1;32m      9\u001b[0m     \u001b[38;5;66;03m# Use tqdm to visualize the progress\u001b[39;00m\n\u001b[1;32m     10\u001b[0m     \u001b[38;5;66;03m# and loop over the data loader\u001b[39;00m\n\u001b[1;32m     11\u001b[0m     identity_metric \u001b[38;5;241m=\u001b[39m \u001b[38;5;241m0\u001b[39m\n\u001b[0;32m---> 12\u001b[0m     \u001b[38;5;28;01mfor\u001b[39;00m image, _ \u001b[38;5;129;01min\u001b[39;00m tqdm(data_loader):\n\u001b[1;32m     13\u001b[0m         \u001b[38;5;66;03m# Zero the gradients\u001b[39;00m\n\u001b[1;32m     14\u001b[0m         optimizer\u001b[38;5;241m.\u001b[39mzero_grad()\n\u001b[1;32m     16\u001b[0m         image \u001b[38;5;241m=\u001b[39m image\u001b[38;5;241m.\u001b[39mto(device)\n",
      "File \u001b[0;32m~/.conda/envs/equiadapt/lib/python3.10/site-packages/tqdm/std.py:1182\u001b[0m, in \u001b[0;36mtqdm.__iter__\u001b[0;34m(self)\u001b[0m\n\u001b[1;32m   1179\u001b[0m time \u001b[38;5;241m=\u001b[39m \u001b[38;5;28mself\u001b[39m\u001b[38;5;241m.\u001b[39m_time\n\u001b[1;32m   1181\u001b[0m \u001b[38;5;28;01mtry\u001b[39;00m:\n\u001b[0;32m-> 1182\u001b[0m     \u001b[38;5;28;01mfor\u001b[39;00m obj \u001b[38;5;129;01min\u001b[39;00m iterable:\n\u001b[1;32m   1183\u001b[0m         \u001b[38;5;28;01myield\u001b[39;00m obj\n\u001b[1;32m   1184\u001b[0m         \u001b[38;5;66;03m# Update and possibly print the progressbar.\u001b[39;00m\n\u001b[1;32m   1185\u001b[0m         \u001b[38;5;66;03m# Note: does not call self.update(1) for speed optimisation.\u001b[39;00m\n",
      "File \u001b[0;32m~/.conda/envs/equiadapt/lib/python3.10/site-packages/torch/utils/data/dataloader.py:631\u001b[0m, in \u001b[0;36m_BaseDataLoaderIter.__next__\u001b[0;34m(self)\u001b[0m\n\u001b[1;32m    628\u001b[0m \u001b[38;5;28;01mif\u001b[39;00m \u001b[38;5;28mself\u001b[39m\u001b[38;5;241m.\u001b[39m_sampler_iter \u001b[38;5;129;01mis\u001b[39;00m \u001b[38;5;28;01mNone\u001b[39;00m:\n\u001b[1;32m    629\u001b[0m     \u001b[38;5;66;03m# TODO(https://github.com/pytorch/pytorch/issues/76750)\u001b[39;00m\n\u001b[1;32m    630\u001b[0m     \u001b[38;5;28mself\u001b[39m\u001b[38;5;241m.\u001b[39m_reset()  \u001b[38;5;66;03m# type: ignore[call-arg]\u001b[39;00m\n\u001b[0;32m--> 631\u001b[0m data \u001b[38;5;241m=\u001b[39m \u001b[38;5;28;43mself\u001b[39;49m\u001b[38;5;241;43m.\u001b[39;49m\u001b[43m_next_data\u001b[49m\u001b[43m(\u001b[49m\u001b[43m)\u001b[49m\n\u001b[1;32m    632\u001b[0m \u001b[38;5;28mself\u001b[39m\u001b[38;5;241m.\u001b[39m_num_yielded \u001b[38;5;241m+\u001b[39m\u001b[38;5;241m=\u001b[39m \u001b[38;5;241m1\u001b[39m\n\u001b[1;32m    633\u001b[0m \u001b[38;5;28;01mif\u001b[39;00m \u001b[38;5;28mself\u001b[39m\u001b[38;5;241m.\u001b[39m_dataset_kind \u001b[38;5;241m==\u001b[39m _DatasetKind\u001b[38;5;241m.\u001b[39mIterable \u001b[38;5;129;01mand\u001b[39;00m \\\n\u001b[1;32m    634\u001b[0m         \u001b[38;5;28mself\u001b[39m\u001b[38;5;241m.\u001b[39m_IterableDataset_len_called \u001b[38;5;129;01mis\u001b[39;00m \u001b[38;5;129;01mnot\u001b[39;00m \u001b[38;5;28;01mNone\u001b[39;00m \u001b[38;5;129;01mand\u001b[39;00m \\\n\u001b[1;32m    635\u001b[0m         \u001b[38;5;28mself\u001b[39m\u001b[38;5;241m.\u001b[39m_num_yielded \u001b[38;5;241m>\u001b[39m \u001b[38;5;28mself\u001b[39m\u001b[38;5;241m.\u001b[39m_IterableDataset_len_called:\n",
      "File \u001b[0;32m~/.conda/envs/equiadapt/lib/python3.10/site-packages/torch/utils/data/dataloader.py:675\u001b[0m, in \u001b[0;36m_SingleProcessDataLoaderIter._next_data\u001b[0;34m(self)\u001b[0m\n\u001b[1;32m    673\u001b[0m \u001b[38;5;28;01mdef\u001b[39;00m \u001b[38;5;21m_next_data\u001b[39m(\u001b[38;5;28mself\u001b[39m):\n\u001b[1;32m    674\u001b[0m     index \u001b[38;5;241m=\u001b[39m \u001b[38;5;28mself\u001b[39m\u001b[38;5;241m.\u001b[39m_next_index()  \u001b[38;5;66;03m# may raise StopIteration\u001b[39;00m\n\u001b[0;32m--> 675\u001b[0m     data \u001b[38;5;241m=\u001b[39m \u001b[38;5;28;43mself\u001b[39;49m\u001b[38;5;241;43m.\u001b[39;49m\u001b[43m_dataset_fetcher\u001b[49m\u001b[38;5;241;43m.\u001b[39;49m\u001b[43mfetch\u001b[49m\u001b[43m(\u001b[49m\u001b[43mindex\u001b[49m\u001b[43m)\u001b[49m  \u001b[38;5;66;03m# may raise StopIteration\u001b[39;00m\n\u001b[1;32m    676\u001b[0m     \u001b[38;5;28;01mif\u001b[39;00m \u001b[38;5;28mself\u001b[39m\u001b[38;5;241m.\u001b[39m_pin_memory:\n\u001b[1;32m    677\u001b[0m         data \u001b[38;5;241m=\u001b[39m _utils\u001b[38;5;241m.\u001b[39mpin_memory\u001b[38;5;241m.\u001b[39mpin_memory(data, \u001b[38;5;28mself\u001b[39m\u001b[38;5;241m.\u001b[39m_pin_memory_device)\n",
      "File \u001b[0;32m~/.conda/envs/equiadapt/lib/python3.10/site-packages/torch/utils/data/_utils/fetch.py:51\u001b[0m, in \u001b[0;36m_MapDatasetFetcher.fetch\u001b[0;34m(self, possibly_batched_index)\u001b[0m\n\u001b[1;32m     49\u001b[0m         data \u001b[38;5;241m=\u001b[39m \u001b[38;5;28mself\u001b[39m\u001b[38;5;241m.\u001b[39mdataset\u001b[38;5;241m.\u001b[39m__getitems__(possibly_batched_index)\n\u001b[1;32m     50\u001b[0m     \u001b[38;5;28;01melse\u001b[39;00m:\n\u001b[0;32m---> 51\u001b[0m         data \u001b[38;5;241m=\u001b[39m [\u001b[38;5;28mself\u001b[39m\u001b[38;5;241m.\u001b[39mdataset[idx] \u001b[38;5;28;01mfor\u001b[39;00m idx \u001b[38;5;129;01min\u001b[39;00m possibly_batched_index]\n\u001b[1;32m     52\u001b[0m \u001b[38;5;28;01melse\u001b[39;00m:\n\u001b[1;32m     53\u001b[0m     data \u001b[38;5;241m=\u001b[39m \u001b[38;5;28mself\u001b[39m\u001b[38;5;241m.\u001b[39mdataset[possibly_batched_index]\n",
      "File \u001b[0;32m~/.conda/envs/equiadapt/lib/python3.10/site-packages/torch/utils/data/_utils/fetch.py:51\u001b[0m, in \u001b[0;36m<listcomp>\u001b[0;34m(.0)\u001b[0m\n\u001b[1;32m     49\u001b[0m         data \u001b[38;5;241m=\u001b[39m \u001b[38;5;28mself\u001b[39m\u001b[38;5;241m.\u001b[39mdataset\u001b[38;5;241m.\u001b[39m__getitems__(possibly_batched_index)\n\u001b[1;32m     50\u001b[0m     \u001b[38;5;28;01melse\u001b[39;00m:\n\u001b[0;32m---> 51\u001b[0m         data \u001b[38;5;241m=\u001b[39m [\u001b[38;5;28;43mself\u001b[39;49m\u001b[38;5;241;43m.\u001b[39;49m\u001b[43mdataset\u001b[49m\u001b[43m[\u001b[49m\u001b[43midx\u001b[49m\u001b[43m]\u001b[49m \u001b[38;5;28;01mfor\u001b[39;00m idx \u001b[38;5;129;01min\u001b[39;00m possibly_batched_index]\n\u001b[1;32m     52\u001b[0m \u001b[38;5;28;01melse\u001b[39;00m:\n\u001b[1;32m     53\u001b[0m     data \u001b[38;5;241m=\u001b[39m \u001b[38;5;28mself\u001b[39m\u001b[38;5;241m.\u001b[39mdataset[possibly_batched_index]\n",
      "File \u001b[0;32m~/.conda/envs/equiadapt/lib/python3.10/site-packages/torchvision/datasets/cifar.py:115\u001b[0m, in \u001b[0;36mCIFAR10.__getitem__\u001b[0;34m(self, index)\u001b[0m\n\u001b[1;32m    111\u001b[0m img, target \u001b[38;5;241m=\u001b[39m \u001b[38;5;28mself\u001b[39m\u001b[38;5;241m.\u001b[39mdata[index], \u001b[38;5;28mself\u001b[39m\u001b[38;5;241m.\u001b[39mtargets[index]\n\u001b[1;32m    113\u001b[0m \u001b[38;5;66;03m# doing this so that it is consistent with all other datasets\u001b[39;00m\n\u001b[1;32m    114\u001b[0m \u001b[38;5;66;03m# to return a PIL Image\u001b[39;00m\n\u001b[0;32m--> 115\u001b[0m img \u001b[38;5;241m=\u001b[39m \u001b[43mImage\u001b[49m\u001b[38;5;241;43m.\u001b[39;49m\u001b[43mfromarray\u001b[49m\u001b[43m(\u001b[49m\u001b[43mimg\u001b[49m\u001b[43m)\u001b[49m\n\u001b[1;32m    117\u001b[0m \u001b[38;5;28;01mif\u001b[39;00m \u001b[38;5;28mself\u001b[39m\u001b[38;5;241m.\u001b[39mtransform \u001b[38;5;129;01mis\u001b[39;00m \u001b[38;5;129;01mnot\u001b[39;00m \u001b[38;5;28;01mNone\u001b[39;00m:\n\u001b[1;32m    118\u001b[0m     img \u001b[38;5;241m=\u001b[39m \u001b[38;5;28mself\u001b[39m\u001b[38;5;241m.\u001b[39mtransform(img)\n",
      "File \u001b[0;32m~/.conda/envs/equiadapt/lib/python3.10/site-packages/PIL/Image.py:3122\u001b[0m, in \u001b[0;36mfromarray\u001b[0;34m(obj, mode)\u001b[0m\n\u001b[1;32m   3119\u001b[0m     \u001b[38;5;28;01melse\u001b[39;00m:\n\u001b[1;32m   3120\u001b[0m         obj \u001b[38;5;241m=\u001b[39m obj\u001b[38;5;241m.\u001b[39mtostring()\n\u001b[0;32m-> 3122\u001b[0m \u001b[38;5;28;01mreturn\u001b[39;00m \u001b[43mfrombuffer\u001b[49m\u001b[43m(\u001b[49m\u001b[43mmode\u001b[49m\u001b[43m,\u001b[49m\u001b[43m \u001b[49m\u001b[43msize\u001b[49m\u001b[43m,\u001b[49m\u001b[43m \u001b[49m\u001b[43mobj\u001b[49m\u001b[43m,\u001b[49m\u001b[43m \u001b[49m\u001b[38;5;124;43m\"\u001b[39;49m\u001b[38;5;124;43mraw\u001b[39;49m\u001b[38;5;124;43m\"\u001b[39;49m\u001b[43m,\u001b[49m\u001b[43m \u001b[49m\u001b[43mrawmode\u001b[49m\u001b[43m,\u001b[49m\u001b[43m \u001b[49m\u001b[38;5;241;43m0\u001b[39;49m\u001b[43m,\u001b[49m\u001b[43m \u001b[49m\u001b[38;5;241;43m1\u001b[39;49m\u001b[43m)\u001b[49m\n",
      "File \u001b[0;32m~/.conda/envs/equiadapt/lib/python3.10/site-packages/PIL/Image.py:3037\u001b[0m, in \u001b[0;36mfrombuffer\u001b[0;34m(mode, size, data, decoder_name, *args)\u001b[0m\n\u001b[1;32m   3034\u001b[0m         im\u001b[38;5;241m.\u001b[39mreadonly \u001b[38;5;241m=\u001b[39m \u001b[38;5;241m1\u001b[39m\n\u001b[1;32m   3035\u001b[0m         \u001b[38;5;28;01mreturn\u001b[39;00m im\n\u001b[0;32m-> 3037\u001b[0m \u001b[38;5;28;01mreturn\u001b[39;00m \u001b[43mfrombytes\u001b[49m\u001b[43m(\u001b[49m\u001b[43mmode\u001b[49m\u001b[43m,\u001b[49m\u001b[43m \u001b[49m\u001b[43msize\u001b[49m\u001b[43m,\u001b[49m\u001b[43m \u001b[49m\u001b[43mdata\u001b[49m\u001b[43m,\u001b[49m\u001b[43m \u001b[49m\u001b[43mdecoder_name\u001b[49m\u001b[43m,\u001b[49m\u001b[43m \u001b[49m\u001b[43margs\u001b[49m\u001b[43m)\u001b[49m\n",
      "File \u001b[0;32m~/.conda/envs/equiadapt/lib/python3.10/site-packages/PIL/Image.py:2970\u001b[0m, in \u001b[0;36mfrombytes\u001b[0;34m(mode, size, data, decoder_name, *args)\u001b[0m\n\u001b[1;32m   2945\u001b[0m \u001b[38;5;250m\u001b[39m\u001b[38;5;124;03m\"\"\"\u001b[39;00m\n\u001b[1;32m   2946\u001b[0m \u001b[38;5;124;03mCreates a copy of an image memory from pixel data in a buffer.\u001b[39;00m\n\u001b[1;32m   2947\u001b[0m \n\u001b[0;32m   (...)\u001b[0m\n\u001b[1;32m   2965\u001b[0m \u001b[38;5;124;03m:returns: An :py:class:`~PIL.Image.Image` object.\u001b[39;00m\n\u001b[1;32m   2966\u001b[0m \u001b[38;5;124;03m\"\"\"\u001b[39;00m\n\u001b[1;32m   2968\u001b[0m _check_size(size)\n\u001b[0;32m-> 2970\u001b[0m im \u001b[38;5;241m=\u001b[39m \u001b[43mnew\u001b[49m\u001b[43m(\u001b[49m\u001b[43mmode\u001b[49m\u001b[43m,\u001b[49m\u001b[43m \u001b[49m\u001b[43msize\u001b[49m\u001b[43m)\u001b[49m\n\u001b[1;32m   2971\u001b[0m \u001b[38;5;28;01mif\u001b[39;00m im\u001b[38;5;241m.\u001b[39mwidth \u001b[38;5;241m!=\u001b[39m \u001b[38;5;241m0\u001b[39m \u001b[38;5;129;01mand\u001b[39;00m im\u001b[38;5;241m.\u001b[39mheight \u001b[38;5;241m!=\u001b[39m \u001b[38;5;241m0\u001b[39m:\n\u001b[1;32m   2972\u001b[0m     \u001b[38;5;66;03m# may pass tuple instead of argument list\u001b[39;00m\n\u001b[1;32m   2973\u001b[0m     \u001b[38;5;28;01mif\u001b[39;00m \u001b[38;5;28mlen\u001b[39m(args) \u001b[38;5;241m==\u001b[39m \u001b[38;5;241m1\u001b[39m \u001b[38;5;129;01mand\u001b[39;00m \u001b[38;5;28misinstance\u001b[39m(args[\u001b[38;5;241m0\u001b[39m], \u001b[38;5;28mtuple\u001b[39m):\n",
      "File \u001b[0;32m~/.conda/envs/equiadapt/lib/python3.10/site-packages/PIL/Image.py:2941\u001b[0m, in \u001b[0;36mnew\u001b[0;34m(mode, size, color)\u001b[0m\n\u001b[1;32m   2939\u001b[0m     im\u001b[38;5;241m.\u001b[39mpalette \u001b[38;5;241m=\u001b[39m ImagePalette\u001b[38;5;241m.\u001b[39mImagePalette()\n\u001b[1;32m   2940\u001b[0m     color \u001b[38;5;241m=\u001b[39m im\u001b[38;5;241m.\u001b[39mpalette\u001b[38;5;241m.\u001b[39mgetcolor(color)\n\u001b[0;32m-> 2941\u001b[0m \u001b[38;5;28;01mreturn\u001b[39;00m im\u001b[38;5;241m.\u001b[39m_new(\u001b[43mcore\u001b[49m\u001b[38;5;241;43m.\u001b[39;49m\u001b[43mfill\u001b[49m\u001b[43m(\u001b[49m\u001b[43mmode\u001b[49m\u001b[43m,\u001b[49m\u001b[43m \u001b[49m\u001b[43msize\u001b[49m\u001b[43m,\u001b[49m\u001b[43m \u001b[49m\u001b[43mcolor\u001b[49m\u001b[43m)\u001b[49m)\n",
      "\u001b[0;31mKeyboardInterrupt\u001b[0m: "
     ]
    }
   ],
   "source": [
    "# Train the canonicalization network using prior regularization\n",
    "\n",
    "# Define the optimizer\n",
    "optimizer = torch.optim.Adam(canonicalization_network.parameters(), lr=0.003)\n",
    "\n",
    "# Define the training loop\n",
    "num_epochs = 30\n",
    "for epoch in range(num_epochs):\n",
    "    # Use tqdm to visualize the progress\n",
    "    # and loop over the data loader\n",
    "    identity_metric = 0\n",
    "    for image, _ in tqdm(data_loader):\n",
    "        # Zero the gradients\n",
    "        optimizer.zero_grad()\n",
    "        \n",
    "        image = image.to(device)\n",
    "        canonicalized_image = canonicalizer.canonicalize(image)\n",
    "        \n",
    "        # Get the prior regularization loss\n",
    "        prior_loss = canonicalizer.get_prior_regularization_loss()\n",
    "        \n",
    "        # Combine the losses\n",
    "        loss = prior_loss * 100\n",
    "        \n",
    "        # Backpropagate the gradients\n",
    "        loss.backward()\n",
    "        \n",
    "        # Optimize\n",
    "        optimizer.step()\n",
    "        \n",
    "        # Update the running average of identity metric\n",
    "        identity_metric += canonicalizer.get_identity_metric()\n",
    "    \n",
    "    # Get the average identity metric\n",
    "    identity_metric /= len(data_loader)\n",
    "    \n",
    "    # Print the identity metric\n",
    "    print(f\"Epoch {epoch+1}/{num_epochs}, : Identity metric = {identity_metric:.4f}\")\n",
    "        \n",
    "        \n",
    "    "
   ]
  },
  {
   "cell_type": "markdown",
   "metadata": {},
   "source": [
    "Canonicalize all the transformed images and visualize them after prior regularization."
   ]
  },
  {
   "cell_type": "code",
   "execution_count": null,
   "metadata": {},
   "outputs": [],
   "source": [
    "get_and_plot_canonicalized_images(transformed_sample_images, canonicalizer)"
   ]
  },
  {
   "cell_type": "markdown",
   "metadata": {},
   "source": [
    "### 2. Check for canonicalization for the optimization based method for discrete groups"
   ]
  },
  {
   "cell_type": "markdown",
   "metadata": {},
   "source": []
  },
  {
   "cell_type": "code",
   "execution_count": 21,
   "metadata": {},
   "outputs": [
    {
     "name": "stdout",
     "output_type": "stream",
     "text": [
      "Image shape: torch.Size([3, 32, 32])\n"
     ]
    }
   ],
   "source": [
    "# Define the hyperparameters for the canonicalization network\n",
    "class CanonicalizationHyperparams:\n",
    "    def __init__(self):\n",
    "        self.group_type = \"rotation\" # Type of group for the canonization network\n",
    "        self.num_rotations = 4\n",
    "        self.input_crop_ratio = 0.5\n",
    "        self.beta = 1.0 # Beta parameter for the canonization network\n",
    "        self.resize_shape = 32 # The shape of the image after resizing\n",
    "\n",
    "# Create an instance of the hyperparameters\n",
    "canonicalization_hyperparams = CanonicalizationHyperparams()\n",
    "\n",
    "# Get the shape of the image\n",
    "image_shape = sample_image_tensor.squeeze().shape\n",
    "\n",
    "# Print the image shape\n",
    "print(f\"Image shape: {image_shape}\")\n",
    "\n",
    "# Define a steerable canonicalization network\n",
    "# Note that you define any steerable network here as long as it outputs \n",
    "# a vector that steers with the input image\n",
    "# This vector is used to get a rotation matrix in a differentiable manner \n",
    "canonicalization_network = ConvNetwork(\n",
    "    in_shape = image_shape,\n",
    "    out_channels=16, \n",
    "    kernel_size= 5, \n",
    "    num_layers = 3,\n",
    "    out_vector_size=128,\n",
    ").to(device)\n",
    "\n",
    "\n",
    "# Create a steerable canonicalization object\n",
    "canonicalizer = OptimizedGroupEquivariantImageCanonicalization(\n",
    "    canonicalization_network=canonicalization_network,\n",
    "    canonicalization_hyperparams=canonicalization_hyperparams,\n",
    "    in_shape=image_shape,\n",
    ").to(device)"
   ]
  },
  {
   "cell_type": "code",
   "execution_count": 22,
   "metadata": {},
   "outputs": [
    {
     "data": {
      "image/png": "[encoded data removed]",
      "text/plain": [
       "<Figure size 400x400 with 4 Axes>"
      ]
     },
     "metadata": {},
     "output_type": "display_data"
    }
   ],
   "source": [
    "# Get canonicalized images for all transformed images\n",
    "canonicalized_images = []\n",
    "for im in transformed_sample_images:\n",
    "    im = im.unsqueeze(0).to(device)\n",
    "    canonicalized_image = canonicalizer.canonicalize(im)\n",
    "    canonicalized_images.append(canonicalized_image.detach().cpu())\n",
    "\n",
    "# Visualizing all the canonicalized images\n",
    "plot_image_tensors(canonicalized_images)"
   ]
  },
  {
   "cell_type": "code",
   "execution_count": 27,
   "metadata": {},
   "outputs": [
    {
     "name": "stderr",
     "output_type": "stream",
     "text": [
      "100%|██████████| 98/98 [00:06<00:00, 15.48it/s]\n"
     ]
    },
    {
     "name": "stdout",
     "output_type": "stream",
     "text": [
      "Epoch 1/50, : Identity metric = 0.7222\n"
     ]
    },
    {
     "name": "stderr",
     "output_type": "stream",
     "text": [
      "100%|██████████| 98/98 [00:06<00:00, 15.29it/s]\n"
     ]
    },
    {
     "name": "stdout",
     "output_type": "stream",
     "text": [
      "Epoch 2/50, : Identity metric = 0.7307\n"
     ]
    },
    {
     "name": "stderr",
     "output_type": "stream",
     "text": [
      "100%|██████████| 98/98 [00:06<00:00, 15.55it/s]\n"
     ]
    },
    {
     "name": "stdout",
     "output_type": "stream",
     "text": [
      "Epoch 3/50, : Identity metric = 0.7378\n"
     ]
    },
    {
     "name": "stderr",
     "output_type": "stream",
     "text": [
      "100%|██████████| 98/98 [00:06<00:00, 15.55it/s]\n"
     ]
    },
    {
     "name": "stdout",
     "output_type": "stream",
     "text": [
      "Epoch 4/50, : Identity metric = 0.7415\n"
     ]
    },
    {
     "name": "stderr",
     "output_type": "stream",
     "text": [
      "100%|██████████| 98/98 [00:06<00:00, 15.57it/s]\n"
     ]
    },
    {
     "name": "stdout",
     "output_type": "stream",
     "text": [
      "Epoch 5/50, : Identity metric = 0.7517\n"
     ]
    },
    {
     "name": "stderr",
     "output_type": "stream",
     "text": [
      "100%|██████████| 98/98 [00:06<00:00, 15.13it/s]\n"
     ]
    },
    {
     "name": "stdout",
     "output_type": "stream",
     "text": [
      "Epoch 6/50, : Identity metric = 0.7560\n"
     ]
    },
    {
     "name": "stderr",
     "output_type": "stream",
     "text": [
      "100%|██████████| 98/98 [00:06<00:00, 15.49it/s]\n"
     ]
    },
    {
     "name": "stdout",
     "output_type": "stream",
     "text": [
      "Epoch 7/50, : Identity metric = 0.7678\n"
     ]
    },
    {
     "name": "stderr",
     "output_type": "stream",
     "text": [
      "100%|██████████| 98/98 [00:06<00:00, 15.27it/s]\n"
     ]
    },
    {
     "name": "stdout",
     "output_type": "stream",
     "text": [
      "Epoch 8/50, : Identity metric = 0.7674\n"
     ]
    },
    {
     "name": "stderr",
     "output_type": "stream",
     "text": [
      "100%|██████████| 98/98 [00:06<00:00, 15.59it/s]\n"
     ]
    },
    {
     "name": "stdout",
     "output_type": "stream",
     "text": [
      "Epoch 9/50, : Identity metric = 0.7687\n"
     ]
    },
    {
     "name": "stderr",
     "output_type": "stream",
     "text": [
      "100%|██████████| 98/98 [00:06<00:00, 15.54it/s]\n"
     ]
    },
    {
     "name": "stdout",
     "output_type": "stream",
     "text": [
      "Epoch 10/50, : Identity metric = 0.7722\n"
     ]
    },
    {
     "name": "stderr",
     "output_type": "stream",
     "text": [
      "100%|██████████| 98/98 [00:06<00:00, 15.53it/s]\n"
     ]
    },
    {
     "name": "stdout",
     "output_type": "stream",
     "text": [
      "Epoch 11/50, : Identity metric = 0.7715\n"
     ]
    },
    {
     "name": "stderr",
     "output_type": "stream",
     "text": [
      " 60%|██████    | 59/98 [00:03<00:02, 15.30it/s]\n"
     ]
    },
    {
     "ename": "KeyboardInterrupt",
     "evalue": "",
     "output_type": "error",
     "traceback": [
      "\u001b[0;31m---------------------------------------------------------------------------\u001b[0m",
      "\u001b[0;31mKeyboardInterrupt\u001b[0m                         Traceback (most recent call last)",
      "Cell \u001b[0;32mIn[27], line 17\u001b[0m\n\u001b[1;32m     14\u001b[0m optimizer\u001b[38;5;241m.\u001b[39mzero_grad()\n\u001b[1;32m     16\u001b[0m image \u001b[38;5;241m=\u001b[39m image\u001b[38;5;241m.\u001b[39mto(device)\n\u001b[0;32m---> 17\u001b[0m canonicalized_image \u001b[38;5;241m=\u001b[39m \u001b[43mcanonicalizer\u001b[49m\u001b[38;5;241;43m.\u001b[39;49m\u001b[43mcanonicalize\u001b[49m\u001b[43m(\u001b[49m\u001b[43mimage\u001b[49m\u001b[43m)\u001b[49m\n\u001b[1;32m     19\u001b[0m \u001b[38;5;66;03m# Get the prior regularization loss\u001b[39;00m\n\u001b[1;32m     20\u001b[0m prior_loss \u001b[38;5;241m=\u001b[39m canonicalizer\u001b[38;5;241m.\u001b[39mget_prior_regularization_loss()\n",
      "File \u001b[0;32m~/EquivariantAdaptation/equiadapt/images/canonicalization/discrete_group.py:113\u001b[0m, in \u001b[0;36mDiscreteGroupImageCanonicalization.canonicalize\u001b[0;34m(self, x)\u001b[0m\n\u001b[1;32m    108\u001b[0m \u001b[38;5;250m\u001b[39m\u001b[38;5;124;03m\"\"\"\u001b[39;00m\n\u001b[1;32m    109\u001b[0m \u001b[38;5;124;03mThis method takes an image as input and \u001b[39;00m\n\u001b[1;32m    110\u001b[0m \u001b[38;5;124;03mreturns the canonicalized image \u001b[39;00m\n\u001b[1;32m    111\u001b[0m \u001b[38;5;124;03m\"\"\"\u001b[39;00m\n\u001b[1;32m    112\u001b[0m \u001b[38;5;28mself\u001b[39m\u001b[38;5;241m.\u001b[39mdevice \u001b[38;5;241m=\u001b[39m x\u001b[38;5;241m.\u001b[39mdevice\n\u001b[0;32m--> 113\u001b[0m group_element_dict \u001b[38;5;241m=\u001b[39m \u001b[38;5;28;43mself\u001b[39;49m\u001b[38;5;241;43m.\u001b[39;49m\u001b[43mget_groupelement\u001b[49m\u001b[43m(\u001b[49m\u001b[43mx\u001b[49m\u001b[43m)\u001b[49m\n\u001b[1;32m    115\u001b[0m x \u001b[38;5;241m=\u001b[39m \u001b[38;5;28mself\u001b[39m\u001b[38;5;241m.\u001b[39mpad(x)\n\u001b[1;32m    117\u001b[0m \u001b[38;5;28;01mif\u001b[39;00m \u001b[38;5;124m'\u001b[39m\u001b[38;5;124mreflection\u001b[39m\u001b[38;5;124m'\u001b[39m \u001b[38;5;129;01min\u001b[39;00m group_element_dict\u001b[38;5;241m.\u001b[39mkeys():\n",
      "File \u001b[0;32m~/EquivariantAdaptation/equiadapt/images/canonicalization/discrete_group.py:85\u001b[0m, in \u001b[0;36mDiscreteGroupImageCanonicalization.get_groupelement\u001b[0;34m(self, x)\u001b[0m\n\u001b[1;32m     74\u001b[0m \u001b[38;5;28;01mdef\u001b[39;00m \u001b[38;5;21mget_groupelement\u001b[39m(\u001b[38;5;28mself\u001b[39m, x: torch\u001b[38;5;241m.\u001b[39mTensor):\n\u001b[1;32m     75\u001b[0m \u001b[38;5;250m    \u001b[39m\u001b[38;5;124;03m\"\"\"\u001b[39;00m\n\u001b[1;32m     76\u001b[0m \u001b[38;5;124;03m    This method takes the input image and\u001b[39;00m\n\u001b[1;32m     77\u001b[0m \u001b[38;5;124;03m    maps it to the group element\u001b[39;00m\n\u001b[0;32m   (...)\u001b[0m\n\u001b[1;32m     83\u001b[0m \u001b[38;5;124;03m        group_element: group element\u001b[39;00m\n\u001b[1;32m     84\u001b[0m \u001b[38;5;124;03m    \"\"\"\u001b[39;00m\n\u001b[0;32m---> 85\u001b[0m     group_activations \u001b[38;5;241m=\u001b[39m \u001b[38;5;28;43mself\u001b[39;49m\u001b[38;5;241;43m.\u001b[39;49m\u001b[43mget_group_activations\u001b[49m\u001b[43m(\u001b[49m\u001b[43mx\u001b[49m\u001b[43m)\u001b[49m\n\u001b[1;32m     86\u001b[0m     group_element_dict \u001b[38;5;241m=\u001b[39m \u001b[38;5;28mself\u001b[39m\u001b[38;5;241m.\u001b[39mgroupactivations_to_groupelement(group_activations)\n\u001b[1;32m     88\u001b[0m     \u001b[38;5;66;03m# Check whether canonicalization_info_dict is already defined\u001b[39;00m\n",
      "File \u001b[0;32m~/EquivariantAdaptation/equiadapt/images/canonicalization/discrete_group.py:215\u001b[0m, in \u001b[0;36mOptimizedGroupEquivariantImageCanonicalization.get_group_activations\u001b[0;34m(self, x)\u001b[0m\n\u001b[1;32m    209\u001b[0m \u001b[38;5;250m\u001b[39m\u001b[38;5;124;03m\"\"\"\u001b[39;00m\n\u001b[1;32m    210\u001b[0m \u001b[38;5;124;03mThis method takes an image as input and \u001b[39;00m\n\u001b[1;32m    211\u001b[0m \u001b[38;5;124;03mreturns the group activations\u001b[39;00m\n\u001b[1;32m    212\u001b[0m \u001b[38;5;124;03m\"\"\"\u001b[39;00m\n\u001b[1;32m    214\u001b[0m x \u001b[38;5;241m=\u001b[39m \u001b[38;5;28mself\u001b[39m\u001b[38;5;241m.\u001b[39mtransformations_before_canonicalization_network_forward(x)     \n\u001b[0;32m--> 215\u001b[0m x_augmented \u001b[38;5;241m=\u001b[39m \u001b[38;5;28;43mself\u001b[39;49m\u001b[38;5;241;43m.\u001b[39;49m\u001b[43mgroup_augment\u001b[49m\u001b[43m(\u001b[49m\u001b[43mx\u001b[49m\u001b[43m)\u001b[49m                       \u001b[38;5;66;03m# size (batch_size * group_size, in_channels, height, width)\u001b[39;00m\n\u001b[1;32m    216\u001b[0m vector_out \u001b[38;5;241m=\u001b[39m \u001b[38;5;28mself\u001b[39m\u001b[38;5;241m.\u001b[39mcanonicalization_network(x_augmented)           \u001b[38;5;66;03m# size (batch_size * group_size, reference_vector_size)\u001b[39;00m\n\u001b[1;32m    217\u001b[0m \u001b[38;5;28mself\u001b[39m\u001b[38;5;241m.\u001b[39mcanonicalization_info_dict \u001b[38;5;241m=\u001b[39m {\u001b[38;5;124m'\u001b[39m\u001b[38;5;124mvector_out\u001b[39m\u001b[38;5;124m'\u001b[39m: vector_out}\n",
      "File \u001b[0;32m~/EquivariantAdaptation/equiadapt/images/canonicalization/discrete_group.py:200\u001b[0m, in \u001b[0;36mOptimizedGroupEquivariantImageCanonicalization.group_augment\u001b[0;34m(self, x)\u001b[0m\n\u001b[1;32m    197\u001b[0m \u001b[38;5;28;01mdef\u001b[39;00m \u001b[38;5;21mgroup_augment\u001b[39m(\u001b[38;5;28mself\u001b[39m, x : torch\u001b[38;5;241m.\u001b[39mTensor):\n\u001b[1;32m    199\u001b[0m     degrees \u001b[38;5;241m=\u001b[39m torch\u001b[38;5;241m.\u001b[39mlinspace(\u001b[38;5;241m0\u001b[39m, \u001b[38;5;241m360\u001b[39m, \u001b[38;5;28mself\u001b[39m\u001b[38;5;241m.\u001b[39mnum_rotations \u001b[38;5;241m+\u001b[39m \u001b[38;5;241m1\u001b[39m)[:\u001b[38;5;241m-\u001b[39m\u001b[38;5;241m1\u001b[39m]\u001b[38;5;241m.\u001b[39mto(\u001b[38;5;28mself\u001b[39m\u001b[38;5;241m.\u001b[39mdevice)\n\u001b[0;32m--> 200\u001b[0m     x_augmented_list \u001b[38;5;241m=\u001b[39m \u001b[38;5;28;43mself\u001b[39;49m\u001b[38;5;241;43m.\u001b[39;49m\u001b[43mrotate_and_maybe_reflect\u001b[49m\u001b[43m(\u001b[49m\u001b[43mx\u001b[49m\u001b[43m,\u001b[49m\u001b[43m \u001b[49m\u001b[43mdegrees\u001b[49m\u001b[43m)\u001b[49m\n\u001b[1;32m    202\u001b[0m     \u001b[38;5;28;01mif\u001b[39;00m \u001b[38;5;28mself\u001b[39m\u001b[38;5;241m.\u001b[39mgroup_type \u001b[38;5;241m==\u001b[39m \u001b[38;5;124m'\u001b[39m\u001b[38;5;124mroto-reflection\u001b[39m\u001b[38;5;124m'\u001b[39m:\n\u001b[1;32m    203\u001b[0m         x_augmented_list \u001b[38;5;241m+\u001b[39m\u001b[38;5;241m=\u001b[39m \u001b[38;5;28mself\u001b[39m\u001b[38;5;241m.\u001b[39mrotate_and_maybe_reflect(x, degrees, reflect\u001b[38;5;241m=\u001b[39m\u001b[38;5;28;01mTrue\u001b[39;00m)\n",
      "File \u001b[0;32m~/EquivariantAdaptation/equiadapt/images/canonicalization/discrete_group.py:189\u001b[0m, in \u001b[0;36mOptimizedGroupEquivariantImageCanonicalization.rotate_and_maybe_reflect\u001b[0;34m(self, x, degrees, reflect)\u001b[0m\n\u001b[1;32m    187\u001b[0m \u001b[38;5;28;01mfor\u001b[39;00m degree \u001b[38;5;129;01min\u001b[39;00m degrees:\n\u001b[1;32m    188\u001b[0m     x_rot \u001b[38;5;241m=\u001b[39m \u001b[38;5;28mself\u001b[39m\u001b[38;5;241m.\u001b[39mpad(x)\n\u001b[0;32m--> 189\u001b[0m     x_rot \u001b[38;5;241m=\u001b[39m \u001b[43mK\u001b[49m\u001b[38;5;241;43m.\u001b[39;49m\u001b[43mgeometry\u001b[49m\u001b[38;5;241;43m.\u001b[39;49m\u001b[43mrotate\u001b[49m\u001b[43m(\u001b[49m\u001b[43mx_rot\u001b[49m\u001b[43m,\u001b[49m\u001b[43m \u001b[49m\u001b[43mdegree\u001b[49m\u001b[43m)\u001b[49m\n\u001b[1;32m    190\u001b[0m     \u001b[38;5;28;01mif\u001b[39;00m reflect:\n\u001b[1;32m    191\u001b[0m         x_rot \u001b[38;5;241m=\u001b[39m K\u001b[38;5;241m.\u001b[39mgeometry\u001b[38;5;241m.\u001b[39mhflip(x_rot)\n",
      "File \u001b[0;32m~/.conda/envs/equiadapt/lib/python3.10/site-packages/kornia/geometry/transform/affwarp.py:287\u001b[0m, in \u001b[0;36mrotate\u001b[0;34m(tensor, angle, center, mode, padding_mode, align_corners)\u001b[0m\n\u001b[1;32m    284\u001b[0m rotation_matrix: torch\u001b[38;5;241m.\u001b[39mTensor \u001b[38;5;241m=\u001b[39m _compute_rotation_matrix(angle, center)\n\u001b[1;32m    286\u001b[0m \u001b[38;5;66;03m# warp using the affine transform\u001b[39;00m\n\u001b[0;32m--> 287\u001b[0m \u001b[38;5;28;01mreturn\u001b[39;00m \u001b[43maffine\u001b[49m\u001b[43m(\u001b[49m\u001b[43mtensor\u001b[49m\u001b[43m,\u001b[49m\u001b[43m \u001b[49m\u001b[43mrotation_matrix\u001b[49m\u001b[43m[\u001b[49m\u001b[38;5;241;43m.\u001b[39;49m\u001b[38;5;241;43m.\u001b[39;49m\u001b[38;5;241;43m.\u001b[39;49m\u001b[43m,\u001b[49m\u001b[43m \u001b[49m\u001b[43m:\u001b[49m\u001b[38;5;241;43m2\u001b[39;49m\u001b[43m,\u001b[49m\u001b[43m \u001b[49m\u001b[43m:\u001b[49m\u001b[38;5;241;43m3\u001b[39;49m\u001b[43m]\u001b[49m\u001b[43m,\u001b[49m\u001b[43m \u001b[49m\u001b[43mmode\u001b[49m\u001b[43m,\u001b[49m\u001b[43m \u001b[49m\u001b[43mpadding_mode\u001b[49m\u001b[43m,\u001b[49m\u001b[43m \u001b[49m\u001b[43malign_corners\u001b[49m\u001b[43m)\u001b[49m\n",
      "File \u001b[0;32m~/.conda/envs/equiadapt/lib/python3.10/site-packages/kornia/geometry/transform/affwarp.py:161\u001b[0m, in \u001b[0;36maffine\u001b[0;34m(tensor, matrix, mode, padding_mode, align_corners)\u001b[0m\n\u001b[1;32m    159\u001b[0m height: \u001b[38;5;28mint\u001b[39m \u001b[38;5;241m=\u001b[39m tensor\u001b[38;5;241m.\u001b[39mshape[\u001b[38;5;241m-\u001b[39m\u001b[38;5;241m2\u001b[39m]\n\u001b[1;32m    160\u001b[0m width: \u001b[38;5;28mint\u001b[39m \u001b[38;5;241m=\u001b[39m tensor\u001b[38;5;241m.\u001b[39mshape[\u001b[38;5;241m-\u001b[39m\u001b[38;5;241m1\u001b[39m]\n\u001b[0;32m--> 161\u001b[0m warped: torch\u001b[38;5;241m.\u001b[39mTensor \u001b[38;5;241m=\u001b[39m \u001b[43mwarp_affine\u001b[49m\u001b[43m(\u001b[49m\u001b[43mtensor\u001b[49m\u001b[43m,\u001b[49m\u001b[43m \u001b[49m\u001b[43mmatrix\u001b[49m\u001b[43m,\u001b[49m\u001b[43m \u001b[49m\u001b[43m(\u001b[49m\u001b[43mheight\u001b[49m\u001b[43m,\u001b[49m\u001b[43m \u001b[49m\u001b[43mwidth\u001b[49m\u001b[43m)\u001b[49m\u001b[43m,\u001b[49m\u001b[43m \u001b[49m\u001b[43mmode\u001b[49m\u001b[43m,\u001b[49m\u001b[43m \u001b[49m\u001b[43mpadding_mode\u001b[49m\u001b[43m,\u001b[49m\u001b[43m \u001b[49m\u001b[43malign_corners\u001b[49m\u001b[43m)\u001b[49m\n\u001b[1;32m    163\u001b[0m \u001b[38;5;66;03m# return in the original shape\u001b[39;00m\n\u001b[1;32m    164\u001b[0m \u001b[38;5;28;01mif\u001b[39;00m is_unbatched:\n",
      "File \u001b[0;32m~/.conda/envs/equiadapt/lib/python3.10/site-packages/kornia/geometry/transform/imgwarp.py:201\u001b[0m, in \u001b[0;36mwarp_affine\u001b[0;34m(src, M, dsize, mode, padding_mode, align_corners, fill_value)\u001b[0m\n\u001b[1;32m    199\u001b[0m \u001b[38;5;66;03m# we generate a 3x3 transformation matrix from 2x3 affine\u001b[39;00m\n\u001b[1;32m    200\u001b[0m M_3x3: Tensor \u001b[38;5;241m=\u001b[39m convert_affinematrix_to_homography(M)\n\u001b[0;32m--> 201\u001b[0m dst_norm_trans_src_norm: Tensor \u001b[38;5;241m=\u001b[39m \u001b[43mnormalize_homography\u001b[49m\u001b[43m(\u001b[49m\u001b[43mM_3x3\u001b[49m\u001b[43m,\u001b[49m\u001b[43m \u001b[49m\u001b[43m(\u001b[49m\u001b[43mH\u001b[49m\u001b[43m,\u001b[49m\u001b[43m \u001b[49m\u001b[43mW\u001b[49m\u001b[43m)\u001b[49m\u001b[43m,\u001b[49m\u001b[43m \u001b[49m\u001b[43mdsize\u001b[49m\u001b[43m)\u001b[49m\n\u001b[1;32m    203\u001b[0m \u001b[38;5;66;03m# src_norm_trans_dst_norm = torch.inverse(dst_norm_trans_src_norm)\u001b[39;00m\n\u001b[1;32m    204\u001b[0m src_norm_trans_dst_norm \u001b[38;5;241m=\u001b[39m _torch_inverse_cast(dst_norm_trans_src_norm)\n",
      "File \u001b[0;32m~/.conda/envs/equiadapt/lib/python3.10/site-packages/kornia/geometry/conversions.py:1007\u001b[0m, in \u001b[0;36mnormalize_homography\u001b[0;34m(dst_pix_trans_src_pix, dsize_src, dsize_dst)\u001b[0m\n\u001b[1;32m   1004\u001b[0m src_norm_trans_src_pix: Tensor \u001b[38;5;241m=\u001b[39m normal_transform_pixel(src_h, src_w)\u001b[38;5;241m.\u001b[39mto(dst_pix_trans_src_pix)\n\u001b[1;32m   1006\u001b[0m src_pix_trans_src_norm \u001b[38;5;241m=\u001b[39m _torch_inverse_cast(src_norm_trans_src_pix)\n\u001b[0;32m-> 1007\u001b[0m dst_norm_trans_dst_pix: Tensor \u001b[38;5;241m=\u001b[39m \u001b[43mnormal_transform_pixel\u001b[49m\u001b[43m(\u001b[49m\u001b[43mdst_h\u001b[49m\u001b[43m,\u001b[49m\u001b[43m \u001b[49m\u001b[43mdst_w\u001b[49m\u001b[43m)\u001b[49m\u001b[38;5;241m.\u001b[39mto(dst_pix_trans_src_pix)\n\u001b[1;32m   1009\u001b[0m \u001b[38;5;66;03m# compute chain transformations\u001b[39;00m\n\u001b[1;32m   1010\u001b[0m dst_norm_trans_src_norm: Tensor \u001b[38;5;241m=\u001b[39m dst_norm_trans_dst_pix \u001b[38;5;241m@\u001b[39m (dst_pix_trans_src_pix \u001b[38;5;241m@\u001b[39m src_pix_trans_src_norm)\n",
      "File \u001b[0;32m~/.conda/envs/equiadapt/lib/python3.10/site-packages/kornia/geometry/conversions.py:1036\u001b[0m, in \u001b[0;36mnormal_transform_pixel\u001b[0;34m(height, width, eps, device, dtype)\u001b[0m\n\u001b[1;32m   1033\u001b[0m tr_mat[\u001b[38;5;241m0\u001b[39m, \u001b[38;5;241m0\u001b[39m] \u001b[38;5;241m=\u001b[39m tr_mat[\u001b[38;5;241m0\u001b[39m, \u001b[38;5;241m0\u001b[39m] \u001b[38;5;241m*\u001b[39m \u001b[38;5;241m2.0\u001b[39m \u001b[38;5;241m/\u001b[39m width_denom\n\u001b[1;32m   1034\u001b[0m tr_mat[\u001b[38;5;241m1\u001b[39m, \u001b[38;5;241m1\u001b[39m] \u001b[38;5;241m=\u001b[39m tr_mat[\u001b[38;5;241m1\u001b[39m, \u001b[38;5;241m1\u001b[39m] \u001b[38;5;241m*\u001b[39m \u001b[38;5;241m2.0\u001b[39m \u001b[38;5;241m/\u001b[39m height_denom\n\u001b[0;32m-> 1036\u001b[0m \u001b[38;5;28;01mreturn\u001b[39;00m \u001b[43mtr_mat\u001b[49m\u001b[38;5;241;43m.\u001b[39;49m\u001b[43munsqueeze\u001b[49m\u001b[43m(\u001b[49m\u001b[38;5;241;43m0\u001b[39;49m\u001b[43m)\u001b[49m\n",
      "\u001b[0;31mKeyboardInterrupt\u001b[0m: "
     ]
    }
   ],
   "source": [
    "# Train the canonicalization network using prior regularization and optimization specific loss\n",
    "\n",
    "# Define the optimizer\n",
    "optimizer = torch.optim.Adam(canonicalization_network.parameters(), lr=0.003)\n",
    "\n",
    "# Define the training loop\n",
    "num_epochs = 50\n",
    "for epoch in range(num_epochs):\n",
    "    # Use tqdm to visualize the progress\n",
    "    # and loop over the data loader\n",
    "    identity_metric = 0\n",
    "    for image, _ in tqdm(data_loader):\n",
    "        # Zero the gradients\n",
    "        optimizer.zero_grad()\n",
    "        \n",
    "        image = image.to(device)\n",
    "        canonicalized_image = canonicalizer.canonicalize(image)\n",
    "        \n",
    "        # Get the prior regularization loss\n",
    "        prior_loss = canonicalizer.get_prior_regularization_loss()\n",
    "        \n",
    "        # Combine the losses\n",
    "        loss = prior_loss + 10 * canonicalizer.get_optimization_specific_loss()\n",
    "        \n",
    "        # Backpropagate the gradients\n",
    "        loss.backward()\n",
    "        \n",
    "        # Optimize\n",
    "        optimizer.step()\n",
    "        \n",
    "        # Update the running average of identity metric\n",
    "        identity_metric += canonicalizer.get_identity_metric()\n",
    "    \n",
    "    # Get the average identity metric\n",
    "    identity_metric /= len(data_loader)\n",
    "    \n",
    "    # Print the identity metric\n",
    "    print(f\"Epoch {epoch+1}/{num_epochs}, : Identity metric = {identity_metric:.4f}\")"
   ]
  },
  {
   "cell_type": "code",
   "execution_count": 28,
   "metadata": {},
   "outputs": [
    {
     "data": {
      "image/png": "[encoded data removed]",
      "text/plain": [
       "<Figure size 400x400 with 4 Axes>"
      ]
     },
     "metadata": {},
     "output_type": "display_data"
    }
   ],
   "source": [
    "# Get canonicalized images for all transformed images\n",
    "canonicalized_images = []\n",
    "for im in transformed_sample_images:\n",
    "    im = im.unsqueeze(0).to(device)\n",
    "    canonicalized_image = canonicalizer.canonicalize(im)\n",
    "    canonicalized_images.append(canonicalized_image.detach().cpu())\n",
    "\n",
    "# Visualizing all the canonicalized images\n",
    "plot_image_tensors(canonicalized_images)"
   ]
  },
  {
   "cell_type": "code",
   "execution_count": 29,
   "metadata": {},
   "outputs": [
    {
     "data": {
      "text/plain": [
       "tensor([[-0.1480, -0.0516,  0.0943, -0.0516]], device='cuda:0',\n",
       "       grad_fn=<PermuteBackward0>)"
      ]
     },
     "execution_count": 29,
     "metadata": {},
     "output_type": "execute_result"
    }
   ],
   "source": [
    "canonicalizer.canonicalization_info_dict['group_activations']"
   ]
  }
 ],
 "metadata": {
  "kernelspec": {
   "display_name": "Python 3",
   "language": "python",
   "name": "python3"
  },
  "language_info": {
   "codemirror_mode": {
    "name": "ipython",
    "version": 3
   },
   "file_extension": ".py",
   "mimetype": "text/x-python",
   "name": "python",
   "nbconvert_exporter": "python",
   "pygments_lexer": "ipython3",
   "version": "3.10.13"
  }
 },
 "nbformat": 4,
 "nbformat_minor": 2
}
